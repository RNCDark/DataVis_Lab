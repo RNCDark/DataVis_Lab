{
 "cells": [
  {
   "cell_type": "markdown",
   "metadata": {},
   "source": [
    "## Why are you here?\n",
    "\n",
    "Full Sail requires you to take this class.  Why do you think a class called Data Visualization and Modeling is important?  How is it relevant to your career path?"
   ]
  },
  {
   "cell_type": "markdown",
   "metadata": {},
   "source": [
    "Data is everywhere!  Everyone is going to have to deal with data.  This isn't going away with LLM.  In fact, I think it's going to be an even more important skill."
   ]
  },
  {
   "cell_type": "markdown",
   "metadata": {},
   "source": [
    "\n"
   ]
  },
  {
   "cell_type": "markdown",
   "metadata": {},
   "source": [
    "## Why do we visualize data and what is a model?"
   ]
  },
  {
   "cell_type": "markdown",
   "metadata": {},
   "source": [
    "It's the quickest way to get data out of a computer and into someone's head.\n",
    "\n",
    "A model is a mathematical representation of a relationship in data."
   ]
  },
  {
   "cell_type": "markdown",
   "metadata": {},
   "source": [
    "## What do you hope to learn?\n",
    "\n",
    "Is there anything specific about data science, data visualization or Python that you hope to learn from this class?"
   ]
  },
  {
   "cell_type": "markdown",
   "metadata": {},
   "source": []
  },
  {
   "cell_type": "markdown",
   "metadata": {},
   "source": [
    "## What is this thing?\n",
    "You might be wondering why we're using a web page instead of a PowerPoint.  What you're actually looking at is an interactive Python interpeter running behind a web page.  This allows us to execute code right in the browser.  I know we haven't explored Python yet, but change the value of x in the box below. When you are ready to see the results, press control + enter (or use the buttons/menu above), and the results of your change should appear below.  Whenever you see a box with code in it I advise you to play around with it and see what it does.  One notebook trick is that the last statement in a code block will print automatically when you run it."
   ]
  },
  {
   "cell_type": "code",
   "execution_count": 2,
   "metadata": {
    "tags": []
   },
   "outputs": [],
   "source": [
    "x = \"Welcome to Data Visualization!!!\""
   ]
  },
  {
   "cell_type": "code",
   "execution_count": 3,
   "metadata": {
    "tags": []
   },
   "outputs": [
    {
     "name": "stdout",
     "output_type": "stream",
     "text": [
      "Welcome to Data Visualization!!!\n"
     ]
    }
   ],
   "source": [
    "print(x)"
   ]
  },
  {
   "cell_type": "markdown",
   "metadata": {},
   "source": [
    "Some students also find it useful to takes notes in the notebook.  To edit a cell, simply double click any text and add your notes.  Run the cell as described above to finish it.  You can also add more cells using the toolbar or menu.  Here are some common formatting options for markdown text.\n",
    "\n",
    "**bold text**\n",
    "\n",
    "*italics*\n",
    "\n",
    "> \"this guy said something\"\n",
    "\n",
    "* bulleted\n",
    "* list\n",
    "\n",
    "\n",
    "1. number\n",
    "2. list\n",
    "\n",
    "```\n",
    "# this is code\n",
    "x = 8\n",
    "```\n",
    "\n",
    "***\n",
    "# Biggest heading\n",
    "## Medium heading\n",
    "### Smallest heading"
   ]
  },
  {
   "cell_type": "markdown",
   "metadata": {
    "tags": []
   },
   "source": [
    "## Python\n",
    "\n",
    "By now you should already have experience with a few different programming languages, so why are we going to use yet another language?  The answer is that different languages solve different problems\n",
    "  * c/c++ is fast, but is slow to compile, memory handling is difficult, and has cryptic symbols and keywords\n",
    "  * C# has a great GUI builder, handles memory, bigger library, but isn't as fast as c++ and doesn't improve productivity (much)\n",
    "  * Java is \"multiplatform\" and handles memory, but isn't as fast as c++ and doesn't improve productivity (much)\n",
    "\n",
    "Python takes a different approach and focuses on something other languages don't improve on, programmer productivity\n",
    "  * Python is built to make it easier for you to get stuff done\n",
    "  * Python is interpreted (compiled to byte code (not machine code), when importing)\n",
    "  * However it slower to execute than other languages and uses more memory when executing\n"
   ]
  },
  {
   "cell_type": "markdown",
   "metadata": {},
   "source": [
    "## The history of Python\n",
    "\n",
    "Origins:\n",
    "\n",
    "* 1980s: Guido van Rossum began working on Python in the late 1980s, at the Centrum Wiskunde & Informatica (CWI) in the Netherlands.\n",
    "* 1991: The first official version, Python 0.9.0, was released in February 1991. This version already included many features familiar to today's Python programmers, including exception handling, functions, and modules.\n",
    "\n",
    "Naming: \n",
    "\n",
    "* The name \"Python\" was not derived from the snake, but rather as a tribute to the British comedy group \"Monty Python,\" whose work Guido van Rossum enjoyed.\n",
    "\n",
    "Evolution:\n",
    "\n",
    "* 1994: Python 1.0 was officially released, marking a significant milestone for the language. It included important features like lambda, map, filter, and reduce.\n",
    "* 2000: Python 2.0 was released, introducing list comprehensions and garbage collection. One of the most significant additions in the Python 2 series was the introduction of the \"new-style classes\" in Python 2.2.\n",
    "* 2008: Python 3.0 (often called \"Python 3000\" or \"Py3k\") was released. It was designed to rectify fundamental flaws of the language. This version was not backward compatible with Python 2, which was a significant and somewhat controversial decision. Key changes included the print statement becoming a function (print()), integer division producing a float instead of an integer, and the introduction of the bytes type for handling binary data.\n",
    "\n",
    "Legacy of Python 2:\n",
    "\n",
    "* Even after the release of Python 3, Python 2 continued to be widely used. However, to move the community forward, the PSF announced that support for Python 2.7 (the last release in the 2.x series) would end in 2020.\n",
    "* After January 1, 2020, Python 2 received no updates, even for security issues."
   ]
  },
  {
   "cell_type": "markdown",
   "metadata": {},
   "source": [
    "**One of the major benefits of Python is that a task will take less time to do.**  Basically anything a programmer needs should already be provided as a built in function or will be easy to get, this way you can focus on the problem solving and ignore the nuts and bolts.  Before you start working on an algorithm, check to see if the solution is already available somewhere else.\n"
   ]
  },
  {
   "cell_type": "code",
   "execution_count": null,
   "metadata": {
    "tags": []
   },
   "outputs": [],
   "source": [
    "# Use a # for comments\n",
    "\n",
    "\"\"\"\n",
    "Also works as well to create a docstring for longer comments\n",
    "\"\"\"\n",
    "\n",
    "#Instead of having to write your own function to calculate the max of a set of numbers, Python has its own built-in max function\n",
    "\n",
    "# std:list<int> nums {1, 2, 3, 4, 5, 6, 7, 8, 9, 10};\n",
    "# int biggest = 0;\n",
    "# for (&x : nums)\n",
    "# {\n",
    "#     if (x > biggest)\n",
    "#     {\n",
    "#          biggest = x;\n",
    "#     }\n",
    "# }\n",
    "# cout << biggest;\n",
    "\n"
   ]
  },
  {
   "cell_type": "markdown",
   "metadata": {},
   "source": [
    "# Pandas\n",
    "You can use Python to write programs that solve the same problems you've encountered in other classes.  In this class, we're going to focus on a few different data-science specific features of Python beginning with the Pandas library.  \n",
    "\n",
    "Pandas is not part of the base Python library, so we have to import it if we want to use the methods in the Pandas library.  The convention is to import Pandas as pd."
   ]
  },
  {
   "cell_type": "code",
   "execution_count": 4,
   "metadata": {
    "tags": []
   },
   "outputs": [],
   "source": [
    "import pandas as pd\n",
    "\n"
   ]
  },
  {
   "cell_type": "markdown",
   "metadata": {},
   "source": [
    "## Pandas DataFrames and Series\n",
    "\n",
    "The DataFrame is the primary structure we will be using for this class, it is an associative, two dimensional data structure. Imagine a spreadsheet page,  SQL table, or flat file.  The series object is a one dimensional datastructure that represents a single column of data.\n",
    "\n",
    "## Loading Data\n",
    "To load a file into a DataFrame we call the appropriate read function.  In this case we are going to read data from a CSV file.  You can also read data from a text file, Excel, etc.  This data file contains information about data science salaries.\n",
    "\n",
    "By convention, DataFrames are often named `df`.  You can view the top 5 records of a DataFrame using the `.head()` method."
   ]
  },
  {
   "cell_type": "code",
   "execution_count": 5,
   "metadata": {
    "tags": []
   },
   "outputs": [
    {
     "data": {
      "text/html": [
       "<div>\n",
       "<style scoped>\n",
       "    .dataframe tbody tr th:only-of-type {\n",
       "        vertical-align: middle;\n",
       "    }\n",
       "\n",
       "    .dataframe tbody tr th {\n",
       "        vertical-align: top;\n",
       "    }\n",
       "\n",
       "    .dataframe thead th {\n",
       "        text-align: right;\n",
       "    }\n",
       "</style>\n",
       "<table border=\"1\" class=\"dataframe\">\n",
       "  <thead>\n",
       "    <tr style=\"text-align: right;\">\n",
       "      <th></th>\n",
       "      <th>work_year</th>\n",
       "      <th>experience_level</th>\n",
       "      <th>employment_type</th>\n",
       "      <th>job_title</th>\n",
       "      <th>salary</th>\n",
       "      <th>salary_currency</th>\n",
       "      <th>salary_in_usd</th>\n",
       "      <th>employee_residence</th>\n",
       "      <th>remote_ratio</th>\n",
       "      <th>company_location</th>\n",
       "      <th>company_size</th>\n",
       "    </tr>\n",
       "  </thead>\n",
       "  <tbody>\n",
       "    <tr>\n",
       "      <th>0</th>\n",
       "      <td>2023</td>\n",
       "      <td>SE</td>\n",
       "      <td>FT</td>\n",
       "      <td>Principal Data Scientist</td>\n",
       "      <td>80000</td>\n",
       "      <td>EUR</td>\n",
       "      <td>85847</td>\n",
       "      <td>ES</td>\n",
       "      <td>100</td>\n",
       "      <td>ES</td>\n",
       "      <td>L</td>\n",
       "    </tr>\n",
       "    <tr>\n",
       "      <th>1</th>\n",
       "      <td>2023</td>\n",
       "      <td>MI</td>\n",
       "      <td>CT</td>\n",
       "      <td>ML Engineer</td>\n",
       "      <td>30000</td>\n",
       "      <td>USD</td>\n",
       "      <td>30000</td>\n",
       "      <td>US</td>\n",
       "      <td>100</td>\n",
       "      <td>US</td>\n",
       "      <td>S</td>\n",
       "    </tr>\n",
       "    <tr>\n",
       "      <th>2</th>\n",
       "      <td>2023</td>\n",
       "      <td>MI</td>\n",
       "      <td>CT</td>\n",
       "      <td>ML Engineer</td>\n",
       "      <td>25500</td>\n",
       "      <td>USD</td>\n",
       "      <td>25500</td>\n",
       "      <td>US</td>\n",
       "      <td>100</td>\n",
       "      <td>US</td>\n",
       "      <td>S</td>\n",
       "    </tr>\n",
       "    <tr>\n",
       "      <th>3</th>\n",
       "      <td>2023</td>\n",
       "      <td>SE</td>\n",
       "      <td>FT</td>\n",
       "      <td>Data Scientist</td>\n",
       "      <td>175000</td>\n",
       "      <td>USD</td>\n",
       "      <td>175000</td>\n",
       "      <td>CA</td>\n",
       "      <td>100</td>\n",
       "      <td>CA</td>\n",
       "      <td>M</td>\n",
       "    </tr>\n",
       "    <tr>\n",
       "      <th>4</th>\n",
       "      <td>2023</td>\n",
       "      <td>SE</td>\n",
       "      <td>FT</td>\n",
       "      <td>Data Scientist</td>\n",
       "      <td>120000</td>\n",
       "      <td>USD</td>\n",
       "      <td>120000</td>\n",
       "      <td>CA</td>\n",
       "      <td>100</td>\n",
       "      <td>CA</td>\n",
       "      <td>M</td>\n",
       "    </tr>\n",
       "  </tbody>\n",
       "</table>\n",
       "</div>"
      ],
      "text/plain": [
       "   work_year experience_level employment_type                 job_title  \\\n",
       "0       2023               SE              FT  Principal Data Scientist   \n",
       "1       2023               MI              CT               ML Engineer   \n",
       "2       2023               MI              CT               ML Engineer   \n",
       "3       2023               SE              FT            Data Scientist   \n",
       "4       2023               SE              FT            Data Scientist   \n",
       "\n",
       "   salary salary_currency  salary_in_usd employee_residence  remote_ratio  \\\n",
       "0   80000             EUR          85847                 ES           100   \n",
       "1   30000             USD          30000                 US           100   \n",
       "2   25500             USD          25500                 US           100   \n",
       "3  175000             USD         175000                 CA           100   \n",
       "4  120000             USD         120000                 CA           100   \n",
       "\n",
       "  company_location company_size  \n",
       "0               ES            L  \n",
       "1               US            S  \n",
       "2               US            S  \n",
       "3               CA            M  \n",
       "4               CA            M  "
      ]
     },
     "execution_count": 5,
     "metadata": {},
     "output_type": "execute_result"
    }
   ],
   "source": [
    "salary_df = pd.read_csv('assets/ds_salaries.csv')\n",
    "\n",
    "salary_df.head()"
   ]
  },
  {
   "cell_type": "code",
   "execution_count": 6,
   "metadata": {
    "tags": []
   },
   "outputs": [
    {
     "data": {
      "text/html": [
       "<div>\n",
       "<style scoped>\n",
       "    .dataframe tbody tr th:only-of-type {\n",
       "        vertical-align: middle;\n",
       "    }\n",
       "\n",
       "    .dataframe tbody tr th {\n",
       "        vertical-align: top;\n",
       "    }\n",
       "\n",
       "    .dataframe thead th {\n",
       "        text-align: right;\n",
       "    }\n",
       "</style>\n",
       "<table border=\"1\" class=\"dataframe\">\n",
       "  <thead>\n",
       "    <tr style=\"text-align: right;\">\n",
       "      <th></th>\n",
       "      <th>work_year</th>\n",
       "      <th>experience_level</th>\n",
       "      <th>employment_type</th>\n",
       "      <th>job_title</th>\n",
       "      <th>salary</th>\n",
       "      <th>salary_currency</th>\n",
       "      <th>salary_in_usd</th>\n",
       "      <th>employee_residence</th>\n",
       "      <th>remote_ratio</th>\n",
       "      <th>company_location</th>\n",
       "      <th>company_size</th>\n",
       "    </tr>\n",
       "  </thead>\n",
       "  <tbody>\n",
       "    <tr>\n",
       "      <th>3750</th>\n",
       "      <td>2020</td>\n",
       "      <td>SE</td>\n",
       "      <td>FT</td>\n",
       "      <td>Data Scientist</td>\n",
       "      <td>412000</td>\n",
       "      <td>USD</td>\n",
       "      <td>412000</td>\n",
       "      <td>US</td>\n",
       "      <td>100</td>\n",
       "      <td>US</td>\n",
       "      <td>L</td>\n",
       "    </tr>\n",
       "    <tr>\n",
       "      <th>3751</th>\n",
       "      <td>2021</td>\n",
       "      <td>MI</td>\n",
       "      <td>FT</td>\n",
       "      <td>Principal Data Scientist</td>\n",
       "      <td>151000</td>\n",
       "      <td>USD</td>\n",
       "      <td>151000</td>\n",
       "      <td>US</td>\n",
       "      <td>100</td>\n",
       "      <td>US</td>\n",
       "      <td>L</td>\n",
       "    </tr>\n",
       "    <tr>\n",
       "      <th>3752</th>\n",
       "      <td>2020</td>\n",
       "      <td>EN</td>\n",
       "      <td>FT</td>\n",
       "      <td>Data Scientist</td>\n",
       "      <td>105000</td>\n",
       "      <td>USD</td>\n",
       "      <td>105000</td>\n",
       "      <td>US</td>\n",
       "      <td>100</td>\n",
       "      <td>US</td>\n",
       "      <td>S</td>\n",
       "    </tr>\n",
       "    <tr>\n",
       "      <th>3753</th>\n",
       "      <td>2020</td>\n",
       "      <td>EN</td>\n",
       "      <td>CT</td>\n",
       "      <td>Business Data Analyst</td>\n",
       "      <td>100000</td>\n",
       "      <td>USD</td>\n",
       "      <td>100000</td>\n",
       "      <td>US</td>\n",
       "      <td>100</td>\n",
       "      <td>US</td>\n",
       "      <td>L</td>\n",
       "    </tr>\n",
       "    <tr>\n",
       "      <th>3754</th>\n",
       "      <td>2021</td>\n",
       "      <td>SE</td>\n",
       "      <td>FT</td>\n",
       "      <td>Data Science Manager</td>\n",
       "      <td>7000000</td>\n",
       "      <td>INR</td>\n",
       "      <td>94665</td>\n",
       "      <td>IN</td>\n",
       "      <td>50</td>\n",
       "      <td>IN</td>\n",
       "      <td>L</td>\n",
       "    </tr>\n",
       "  </tbody>\n",
       "</table>\n",
       "</div>"
      ],
      "text/plain": [
       "      work_year experience_level employment_type                 job_title  \\\n",
       "3750       2020               SE              FT            Data Scientist   \n",
       "3751       2021               MI              FT  Principal Data Scientist   \n",
       "3752       2020               EN              FT            Data Scientist   \n",
       "3753       2020               EN              CT     Business Data Analyst   \n",
       "3754       2021               SE              FT      Data Science Manager   \n",
       "\n",
       "       salary salary_currency  salary_in_usd employee_residence  remote_ratio  \\\n",
       "3750   412000             USD         412000                 US           100   \n",
       "3751   151000             USD         151000                 US           100   \n",
       "3752   105000             USD         105000                 US           100   \n",
       "3753   100000             USD         100000                 US           100   \n",
       "3754  7000000             INR          94665                 IN            50   \n",
       "\n",
       "     company_location company_size  \n",
       "3750               US            L  \n",
       "3751               US            L  \n",
       "3752               US            S  \n",
       "3753               US            L  \n",
       "3754               IN            L  "
      ]
     },
     "execution_count": 6,
     "metadata": {},
     "output_type": "execute_result"
    }
   ],
   "source": [
    "salary_df.tail()"
   ]
  },
  {
   "cell_type": "code",
   "execution_count": 7,
   "metadata": {
    "tags": []
   },
   "outputs": [
    {
     "data": {
      "text/html": [
       "<div>\n",
       "<style scoped>\n",
       "    .dataframe tbody tr th:only-of-type {\n",
       "        vertical-align: middle;\n",
       "    }\n",
       "\n",
       "    .dataframe tbody tr th {\n",
       "        vertical-align: top;\n",
       "    }\n",
       "\n",
       "    .dataframe thead th {\n",
       "        text-align: right;\n",
       "    }\n",
       "</style>\n",
       "<table border=\"1\" class=\"dataframe\">\n",
       "  <thead>\n",
       "    <tr style=\"text-align: right;\">\n",
       "      <th></th>\n",
       "      <th>work_year</th>\n",
       "      <th>experience_level</th>\n",
       "      <th>employment_type</th>\n",
       "      <th>job_title</th>\n",
       "      <th>salary</th>\n",
       "      <th>salary_currency</th>\n",
       "      <th>salary_in_usd</th>\n",
       "      <th>employee_residence</th>\n",
       "      <th>remote_ratio</th>\n",
       "      <th>company_location</th>\n",
       "      <th>company_size</th>\n",
       "    </tr>\n",
       "  </thead>\n",
       "  <tbody>\n",
       "    <tr>\n",
       "      <th>0</th>\n",
       "      <td>2023</td>\n",
       "      <td>SE</td>\n",
       "      <td>FT</td>\n",
       "      <td>Principal Data Scientist</td>\n",
       "      <td>80000</td>\n",
       "      <td>EUR</td>\n",
       "      <td>85847</td>\n",
       "      <td>ES</td>\n",
       "      <td>100</td>\n",
       "      <td>ES</td>\n",
       "      <td>L</td>\n",
       "    </tr>\n",
       "    <tr>\n",
       "      <th>1</th>\n",
       "      <td>2023</td>\n",
       "      <td>MI</td>\n",
       "      <td>CT</td>\n",
       "      <td>ML Engineer</td>\n",
       "      <td>30000</td>\n",
       "      <td>USD</td>\n",
       "      <td>30000</td>\n",
       "      <td>US</td>\n",
       "      <td>100</td>\n",
       "      <td>US</td>\n",
       "      <td>S</td>\n",
       "    </tr>\n",
       "    <tr>\n",
       "      <th>2</th>\n",
       "      <td>2023</td>\n",
       "      <td>MI</td>\n",
       "      <td>CT</td>\n",
       "      <td>ML Engineer</td>\n",
       "      <td>25500</td>\n",
       "      <td>USD</td>\n",
       "      <td>25500</td>\n",
       "      <td>US</td>\n",
       "      <td>100</td>\n",
       "      <td>US</td>\n",
       "      <td>S</td>\n",
       "    </tr>\n",
       "    <tr>\n",
       "      <th>3</th>\n",
       "      <td>2023</td>\n",
       "      <td>SE</td>\n",
       "      <td>FT</td>\n",
       "      <td>Data Scientist</td>\n",
       "      <td>175000</td>\n",
       "      <td>USD</td>\n",
       "      <td>175000</td>\n",
       "      <td>CA</td>\n",
       "      <td>100</td>\n",
       "      <td>CA</td>\n",
       "      <td>M</td>\n",
       "    </tr>\n",
       "    <tr>\n",
       "      <th>4</th>\n",
       "      <td>2023</td>\n",
       "      <td>SE</td>\n",
       "      <td>FT</td>\n",
       "      <td>Data Scientist</td>\n",
       "      <td>120000</td>\n",
       "      <td>USD</td>\n",
       "      <td>120000</td>\n",
       "      <td>CA</td>\n",
       "      <td>100</td>\n",
       "      <td>CA</td>\n",
       "      <td>M</td>\n",
       "    </tr>\n",
       "    <tr>\n",
       "      <th>5</th>\n",
       "      <td>2023</td>\n",
       "      <td>SE</td>\n",
       "      <td>FT</td>\n",
       "      <td>Applied Scientist</td>\n",
       "      <td>222200</td>\n",
       "      <td>USD</td>\n",
       "      <td>222200</td>\n",
       "      <td>US</td>\n",
       "      <td>0</td>\n",
       "      <td>US</td>\n",
       "      <td>L</td>\n",
       "    </tr>\n",
       "    <tr>\n",
       "      <th>6</th>\n",
       "      <td>2023</td>\n",
       "      <td>SE</td>\n",
       "      <td>FT</td>\n",
       "      <td>Applied Scientist</td>\n",
       "      <td>136000</td>\n",
       "      <td>USD</td>\n",
       "      <td>136000</td>\n",
       "      <td>US</td>\n",
       "      <td>0</td>\n",
       "      <td>US</td>\n",
       "      <td>L</td>\n",
       "    </tr>\n",
       "    <tr>\n",
       "      <th>7</th>\n",
       "      <td>2023</td>\n",
       "      <td>SE</td>\n",
       "      <td>FT</td>\n",
       "      <td>Data Scientist</td>\n",
       "      <td>219000</td>\n",
       "      <td>USD</td>\n",
       "      <td>219000</td>\n",
       "      <td>CA</td>\n",
       "      <td>0</td>\n",
       "      <td>CA</td>\n",
       "      <td>M</td>\n",
       "    </tr>\n",
       "    <tr>\n",
       "      <th>8</th>\n",
       "      <td>2023</td>\n",
       "      <td>SE</td>\n",
       "      <td>FT</td>\n",
       "      <td>Data Scientist</td>\n",
       "      <td>141000</td>\n",
       "      <td>USD</td>\n",
       "      <td>141000</td>\n",
       "      <td>CA</td>\n",
       "      <td>0</td>\n",
       "      <td>CA</td>\n",
       "      <td>M</td>\n",
       "    </tr>\n",
       "    <tr>\n",
       "      <th>9</th>\n",
       "      <td>2023</td>\n",
       "      <td>SE</td>\n",
       "      <td>FT</td>\n",
       "      <td>Data Scientist</td>\n",
       "      <td>147100</td>\n",
       "      <td>USD</td>\n",
       "      <td>147100</td>\n",
       "      <td>US</td>\n",
       "      <td>0</td>\n",
       "      <td>US</td>\n",
       "      <td>M</td>\n",
       "    </tr>\n",
       "    <tr>\n",
       "      <th>10</th>\n",
       "      <td>2023</td>\n",
       "      <td>SE</td>\n",
       "      <td>FT</td>\n",
       "      <td>Data Scientist</td>\n",
       "      <td>90700</td>\n",
       "      <td>USD</td>\n",
       "      <td>90700</td>\n",
       "      <td>US</td>\n",
       "      <td>0</td>\n",
       "      <td>US</td>\n",
       "      <td>M</td>\n",
       "    </tr>\n",
       "    <tr>\n",
       "      <th>11</th>\n",
       "      <td>2023</td>\n",
       "      <td>SE</td>\n",
       "      <td>FT</td>\n",
       "      <td>Data Analyst</td>\n",
       "      <td>130000</td>\n",
       "      <td>USD</td>\n",
       "      <td>130000</td>\n",
       "      <td>US</td>\n",
       "      <td>100</td>\n",
       "      <td>US</td>\n",
       "      <td>M</td>\n",
       "    </tr>\n",
       "    <tr>\n",
       "      <th>12</th>\n",
       "      <td>2023</td>\n",
       "      <td>SE</td>\n",
       "      <td>FT</td>\n",
       "      <td>Data Analyst</td>\n",
       "      <td>100000</td>\n",
       "      <td>USD</td>\n",
       "      <td>100000</td>\n",
       "      <td>US</td>\n",
       "      <td>100</td>\n",
       "      <td>US</td>\n",
       "      <td>M</td>\n",
       "    </tr>\n",
       "    <tr>\n",
       "      <th>13</th>\n",
       "      <td>2023</td>\n",
       "      <td>EN</td>\n",
       "      <td>FT</td>\n",
       "      <td>Applied Scientist</td>\n",
       "      <td>213660</td>\n",
       "      <td>USD</td>\n",
       "      <td>213660</td>\n",
       "      <td>US</td>\n",
       "      <td>0</td>\n",
       "      <td>US</td>\n",
       "      <td>L</td>\n",
       "    </tr>\n",
       "    <tr>\n",
       "      <th>14</th>\n",
       "      <td>2023</td>\n",
       "      <td>EN</td>\n",
       "      <td>FT</td>\n",
       "      <td>Applied Scientist</td>\n",
       "      <td>130760</td>\n",
       "      <td>USD</td>\n",
       "      <td>130760</td>\n",
       "      <td>US</td>\n",
       "      <td>0</td>\n",
       "      <td>US</td>\n",
       "      <td>L</td>\n",
       "    </tr>\n",
       "  </tbody>\n",
       "</table>\n",
       "</div>"
      ],
      "text/plain": [
       "    work_year experience_level employment_type                 job_title  \\\n",
       "0        2023               SE              FT  Principal Data Scientist   \n",
       "1        2023               MI              CT               ML Engineer   \n",
       "2        2023               MI              CT               ML Engineer   \n",
       "3        2023               SE              FT            Data Scientist   \n",
       "4        2023               SE              FT            Data Scientist   \n",
       "5        2023               SE              FT         Applied Scientist   \n",
       "6        2023               SE              FT         Applied Scientist   \n",
       "7        2023               SE              FT            Data Scientist   \n",
       "8        2023               SE              FT            Data Scientist   \n",
       "9        2023               SE              FT            Data Scientist   \n",
       "10       2023               SE              FT            Data Scientist   \n",
       "11       2023               SE              FT              Data Analyst   \n",
       "12       2023               SE              FT              Data Analyst   \n",
       "13       2023               EN              FT         Applied Scientist   \n",
       "14       2023               EN              FT         Applied Scientist   \n",
       "\n",
       "    salary salary_currency  salary_in_usd employee_residence  remote_ratio  \\\n",
       "0    80000             EUR          85847                 ES           100   \n",
       "1    30000             USD          30000                 US           100   \n",
       "2    25500             USD          25500                 US           100   \n",
       "3   175000             USD         175000                 CA           100   \n",
       "4   120000             USD         120000                 CA           100   \n",
       "5   222200             USD         222200                 US             0   \n",
       "6   136000             USD         136000                 US             0   \n",
       "7   219000             USD         219000                 CA             0   \n",
       "8   141000             USD         141000                 CA             0   \n",
       "9   147100             USD         147100                 US             0   \n",
       "10   90700             USD          90700                 US             0   \n",
       "11  130000             USD         130000                 US           100   \n",
       "12  100000             USD         100000                 US           100   \n",
       "13  213660             USD         213660                 US             0   \n",
       "14  130760             USD         130760                 US             0   \n",
       "\n",
       "   company_location company_size  \n",
       "0                ES            L  \n",
       "1                US            S  \n",
       "2                US            S  \n",
       "3                CA            M  \n",
       "4                CA            M  \n",
       "5                US            L  \n",
       "6                US            L  \n",
       "7                CA            M  \n",
       "8                CA            M  \n",
       "9                US            M  \n",
       "10               US            M  \n",
       "11               US            M  \n",
       "12               US            M  \n",
       "13               US            L  \n",
       "14               US            L  "
      ]
     },
     "execution_count": 7,
     "metadata": {},
     "output_type": "execute_result"
    }
   ],
   "source": [
    "salary_df.head(15)"
   ]
  },
  {
   "cell_type": "code",
   "execution_count": null,
   "metadata": {
    "tags": []
   },
   "outputs": [],
   "source": []
  },
  {
   "cell_type": "markdown",
   "metadata": {},
   "source": [
    "# Reading data from different sources\n",
    "\n",
    "## From a URL\n"
   ]
  },
  {
   "cell_type": "code",
   "execution_count": 9,
   "metadata": {
    "tags": []
   },
   "outputs": [
    {
     "data": {
      "text/html": [
       "<div>\n",
       "<style scoped>\n",
       "    .dataframe tbody tr th:only-of-type {\n",
       "        vertical-align: middle;\n",
       "    }\n",
       "\n",
       "    .dataframe tbody tr th {\n",
       "        vertical-align: top;\n",
       "    }\n",
       "\n",
       "    .dataframe thead th {\n",
       "        text-align: right;\n",
       "    }\n",
       "</style>\n",
       "<table border=\"1\" class=\"dataframe\">\n",
       "  <thead>\n",
       "    <tr style=\"text-align: right;\">\n",
       "      <th></th>\n",
       "      <th>Subject id</th>\n",
       "      <th>Year</th>\n",
       "      <th>Aniseptic (1=Post-Discovery, 0=Pre-Discovery)</th>\n",
       "      <th>Limb (1=Lower, 2=Upper)</th>\n",
       "      <th>Outcome (1=Recovery, 0=Death)</th>\n",
       "    </tr>\n",
       "  </thead>\n",
       "  <tbody>\n",
       "    <tr>\n",
       "      <th>0</th>\n",
       "      <td>1</td>\n",
       "      <td>1864</td>\n",
       "      <td>0</td>\n",
       "      <td>1</td>\n",
       "      <td>0</td>\n",
       "    </tr>\n",
       "    <tr>\n",
       "      <th>1</th>\n",
       "      <td>2</td>\n",
       "      <td>1864</td>\n",
       "      <td>0</td>\n",
       "      <td>1</td>\n",
       "      <td>1</td>\n",
       "    </tr>\n",
       "    <tr>\n",
       "      <th>2</th>\n",
       "      <td>3</td>\n",
       "      <td>1864</td>\n",
       "      <td>0</td>\n",
       "      <td>1</td>\n",
       "      <td>0</td>\n",
       "    </tr>\n",
       "    <tr>\n",
       "      <th>3</th>\n",
       "      <td>4</td>\n",
       "      <td>1864</td>\n",
       "      <td>0</td>\n",
       "      <td>1</td>\n",
       "      <td>0</td>\n",
       "    </tr>\n",
       "    <tr>\n",
       "      <th>4</th>\n",
       "      <td>5</td>\n",
       "      <td>1864</td>\n",
       "      <td>0</td>\n",
       "      <td>1</td>\n",
       "      <td>1</td>\n",
       "    </tr>\n",
       "  </tbody>\n",
       "</table>\n",
       "</div>"
      ],
      "text/plain": [
       "   Subject id  Year  Aniseptic (1=Post-Discovery, 0=Pre-Discovery)  \\\n",
       "0           1  1864                                              0   \n",
       "1           2  1864                                              0   \n",
       "2           3  1864                                              0   \n",
       "3           4  1864                                              0   \n",
       "4           5  1864                                              0   \n",
       "\n",
       "   Limb (1=Lower, 2=Upper)  Outcome (1=Recovery, 0=Death)  \n",
       "0                        1                              0  \n",
       "1                        1                              1  \n",
       "2                        1                              0  \n",
       "3                        1                              0  \n",
       "4                        1                              1  "
      ]
     },
     "execution_count": 9,
     "metadata": {},
     "output_type": "execute_result"
    }
   ],
   "source": [
    "url = 'https://users.stat.ufl.edu/~winner/data/lister.dat'\n",
    "\n",
    "columns = [ 'Subject id', 'Year', 'Aniseptic (1=Post-Discovery, 0=Pre-Discovery)', 'Limb (1=Lower, 2=Upper)', 'Outcome (1=Recovery, 0=Death)' ]\n",
    "\n",
    "url_df = pd.read_csv(url, names = columns, sep='\\s+')\n",
    "\n",
    "url_df.head()"
   ]
  },
  {
   "cell_type": "code",
   "execution_count": null,
   "metadata": {
    "tags": []
   },
   "outputs": [],
   "source": []
  },
  {
   "cell_type": "markdown",
   "metadata": {
    "tags": []
   },
   "source": [
    "## From a JSON File"
   ]
  },
  {
   "cell_type": "code",
   "execution_count": 8,
   "metadata": {
    "tags": []
   },
   "outputs": [
    {
     "data": {
      "text/html": [
       "<div>\n",
       "<style scoped>\n",
       "    .dataframe tbody tr th:only-of-type {\n",
       "        vertical-align: middle;\n",
       "    }\n",
       "\n",
       "    .dataframe tbody tr th {\n",
       "        vertical-align: top;\n",
       "    }\n",
       "\n",
       "    .dataframe thead th {\n",
       "        text-align: right;\n",
       "    }\n",
       "</style>\n",
       "<table border=\"1\" class=\"dataframe\">\n",
       "  <thead>\n",
       "    <tr style=\"text-align: right;\">\n",
       "      <th></th>\n",
       "      <th>GENDER</th>\n",
       "      <th>AGE</th>\n",
       "      <th>SMOKING</th>\n",
       "      <th>YELLOW_FINGERS</th>\n",
       "      <th>ANXIETY</th>\n",
       "      <th>PEER_PRESSURE</th>\n",
       "      <th>CHRONIC_DISEASE</th>\n",
       "      <th>FATIGUE</th>\n",
       "      <th>ALLERGY</th>\n",
       "      <th>WHEEZING</th>\n",
       "      <th>ALCOHOL_CONSUMING</th>\n",
       "      <th>COUGHING</th>\n",
       "      <th>SHORTNESS_OF_BREATH</th>\n",
       "      <th>SWALLOWING_DIFFICULTY</th>\n",
       "      <th>CHEST_PAIN</th>\n",
       "      <th>LUNG_CANCER</th>\n",
       "    </tr>\n",
       "  </thead>\n",
       "  <tbody>\n",
       "    <tr>\n",
       "      <th>0</th>\n",
       "      <td>M</td>\n",
       "      <td>65</td>\n",
       "      <td>1</td>\n",
       "      <td>1</td>\n",
       "      <td>1</td>\n",
       "      <td>2</td>\n",
       "      <td>2</td>\n",
       "      <td>1</td>\n",
       "      <td>2</td>\n",
       "      <td>2</td>\n",
       "      <td>2</td>\n",
       "      <td>2</td>\n",
       "      <td>2</td>\n",
       "      <td>2</td>\n",
       "      <td>1</td>\n",
       "      <td>NO</td>\n",
       "    </tr>\n",
       "    <tr>\n",
       "      <th>1</th>\n",
       "      <td>F</td>\n",
       "      <td>55</td>\n",
       "      <td>1</td>\n",
       "      <td>2</td>\n",
       "      <td>2</td>\n",
       "      <td>1</td>\n",
       "      <td>1</td>\n",
       "      <td>2</td>\n",
       "      <td>2</td>\n",
       "      <td>2</td>\n",
       "      <td>1</td>\n",
       "      <td>1</td>\n",
       "      <td>1</td>\n",
       "      <td>2</td>\n",
       "      <td>2</td>\n",
       "      <td>NO</td>\n",
       "    </tr>\n",
       "    <tr>\n",
       "      <th>2</th>\n",
       "      <td>F</td>\n",
       "      <td>78</td>\n",
       "      <td>2</td>\n",
       "      <td>2</td>\n",
       "      <td>1</td>\n",
       "      <td>1</td>\n",
       "      <td>1</td>\n",
       "      <td>2</td>\n",
       "      <td>1</td>\n",
       "      <td>2</td>\n",
       "      <td>1</td>\n",
       "      <td>1</td>\n",
       "      <td>2</td>\n",
       "      <td>1</td>\n",
       "      <td>1</td>\n",
       "      <td>YES</td>\n",
       "    </tr>\n",
       "    <tr>\n",
       "      <th>3</th>\n",
       "      <td>M</td>\n",
       "      <td>60</td>\n",
       "      <td>2</td>\n",
       "      <td>1</td>\n",
       "      <td>1</td>\n",
       "      <td>1</td>\n",
       "      <td>2</td>\n",
       "      <td>1</td>\n",
       "      <td>2</td>\n",
       "      <td>1</td>\n",
       "      <td>1</td>\n",
       "      <td>2</td>\n",
       "      <td>1</td>\n",
       "      <td>2</td>\n",
       "      <td>2</td>\n",
       "      <td>YES</td>\n",
       "    </tr>\n",
       "    <tr>\n",
       "      <th>4</th>\n",
       "      <td>F</td>\n",
       "      <td>80</td>\n",
       "      <td>1</td>\n",
       "      <td>1</td>\n",
       "      <td>2</td>\n",
       "      <td>1</td>\n",
       "      <td>1</td>\n",
       "      <td>2</td>\n",
       "      <td>1</td>\n",
       "      <td>2</td>\n",
       "      <td>1</td>\n",
       "      <td>1</td>\n",
       "      <td>1</td>\n",
       "      <td>1</td>\n",
       "      <td>2</td>\n",
       "      <td>NO</td>\n",
       "    </tr>\n",
       "  </tbody>\n",
       "</table>\n",
       "</div>"
      ],
      "text/plain": [
       "  GENDER  AGE  SMOKING  YELLOW_FINGERS  ANXIETY  PEER_PRESSURE  \\\n",
       "0      M   65        1               1        1              2   \n",
       "1      F   55        1               2        2              1   \n",
       "2      F   78        2               2        1              1   \n",
       "3      M   60        2               1        1              1   \n",
       "4      F   80        1               1        2              1   \n",
       "\n",
       "   CHRONIC_DISEASE  FATIGUE  ALLERGY  WHEEZING  ALCOHOL_CONSUMING  COUGHING  \\\n",
       "0                2        1        2         2                  2         2   \n",
       "1                1        2        2         2                  1         1   \n",
       "2                1        2        1         2                  1         1   \n",
       "3                2        1        2         1                  1         2   \n",
       "4                1        2        1         2                  1         1   \n",
       "\n",
       "   SHORTNESS_OF_BREATH  SWALLOWING_DIFFICULTY  CHEST_PAIN LUNG_CANCER  \n",
       "0                    2                      2           1          NO  \n",
       "1                    1                      2           2          NO  \n",
       "2                    2                      1           1         YES  \n",
       "3                    1                      2           2         YES  \n",
       "4                    1                      1           2          NO  "
      ]
     },
     "execution_count": 8,
     "metadata": {},
     "output_type": "execute_result"
    }
   ],
   "source": [
    "cancer_df = pd.read_json('assets/cancer.json')\n",
    "\n",
    "cancer_df.head()"
   ]
  },
  {
   "cell_type": "code",
   "execution_count": null,
   "metadata": {
    "tags": []
   },
   "outputs": [],
   "source": []
  },
  {
   "cell_type": "markdown",
   "metadata": {},
   "source": [
    "## Data Dictionary\n",
    "\n",
    "Sometimes data is represented using special codes and that we need an accompanying data dictionary to interpret.\n",
    "\n",
    "Below is the data dictionary for the data science salary dataset: \n",
    "\n",
    "**work_year:** The year the salary was paid.\n",
    "\n",
    "**experience_level:** The experience level in the job during the year.\n",
    "\n",
    "EN > Entry-level / Junior\n",
    "MI> Mid-level / Intermediate\n",
    "SE > Senior-level / Expert\n",
    "EX > Executive-level / Director\n",
    "\n",
    "**employment_type:** The type of employment for the role.\n",
    "\n",
    "PT > Part-time\n",
    "FT > Full-time\n",
    "CT > Contract\n",
    "FL > Freelance\n",
    "\n",
    "**job_title:** The role worked in during the year.\n",
    "\n",
    "**salary:** The total gross salary amount paid.\n",
    "\n",
    "**salary_currency:** The currency of the salary paid as an ISO 4217 currency code.\n",
    "\n",
    "**salaryinusd:** The salary in USD.\n",
    "\n",
    "**employee_residence:** Employee's primary country of residence during the work year as an ISO 3166 country code.\n",
    "\n",
    "**remote_ratio:** The overall amount of work done remotely.\n",
    "\n",
    "**company_location:** The country of the employer's main office or contracting branch.\n",
    "\n",
    "**company_size:** The average number of people that worked for the company during the year: S less than 50 employees (small) M 50 to 250 employees (medium) L more than 250 employees (large)\n",
    "\n",
    "**Can you determine what type of data each feature is in the DS salary dataset?**"
   ]
  },
  {
   "cell_type": "code",
   "execution_count": null,
   "metadata": {
    "tags": []
   },
   "outputs": [],
   "source": []
  },
  {
   "cell_type": "markdown",
   "metadata": {},
   "source": [
    "## Data\n",
    "Since we will be dealing with large amounts of *heterogenous data*, we will need to expand our vocabulary in order to make sure we communicate effectively. We can define heterogenous data as any data with high variability of types and formats, possibly with sparse / missing values, or even invalid data.\n",
    "\n",
    "**We care about the type of data we are working with because it will drive the decisions we make about what type of visualization to create or what type of model(s) to use.**\n",
    "\n",
    "## Data Types\n",
    "* Quantitative data deals with quantities, something that can be measured:  height, weight, average time to play through a game, MPG\n",
    "    * Discrete data is when only specified values exist (shoe size)\n",
    "    * Continuous data is any value in a given range (foot length)\n",
    "* Categorical data deals with categories, something that cannot be measured:  eye color, game publisher, month a holiday occurs, a subjective rating.  Sometimes a categorical feature will be represented by a number (ZIP code, player jersey number) or represented using numbers (ie using a *dummy code*: 0 = ACTION, 1 = ADVENTURE, 2 = RPG, etc)\n",
    "    * Nominal data is categorical data with no numerical or ordered relationship (high school mascot)\n",
    "    * Ordinal data is categorical data that has a specific ordering (freshman, sophmore, etc.)\n",
    "* Time data is unique in that it often blends elements of both quantitative and categorical\n"
   ]
  },
  {
   "cell_type": "markdown",
   "metadata": {},
   "source": [
    "## Visualizations for quantitative features\n",
    "\n",
    "The two most common visualizations for quantitative features are the histogram and the box plot.\n"
   ]
  },
  {
   "cell_type": "code",
   "execution_count": 14,
   "metadata": {
    "tags": []
   },
   "outputs": [
    {
     "name": "stderr",
     "output_type": "stream",
     "text": [
      "Matplotlib is building the font cache; this may take a moment.\n"
     ]
    },
    {
     "data": {
      "text/plain": [
       "<Axes: ylabel='Frequency'>"
      ]
     },
     "execution_count": 14,
     "metadata": {},
     "output_type": "execute_result"
    },
    {
     "data": {
      "image/png": "[encoded data removed]",
      "text/plain": [
       "<Figure size 640x480 with 1 Axes>"
      ]
     },
     "metadata": {},
     "output_type": "display_data"
    }
   ],
   "source": [
    "salary_df['salary_in_usd'].plot(kind='hist')"
   ]
  },
  {
   "cell_type": "code",
   "execution_count": 16,
   "metadata": {
    "tags": []
   },
   "outputs": [
    {
     "data": {
      "text/plain": [
       "<Axes: >"
      ]
     },
     "execution_count": 16,
     "metadata": {},
     "output_type": "execute_result"
    },
    {
     "data": {
      "image/png": "[encoded data removed]",
      "text/plain": [
       "<Figure size 640x480 with 1 Axes>"
      ]
     },
     "metadata": {},
     "output_type": "display_data"
    }
   ],
   "source": [
    "salary_df['salary_in_usd'].plot(kind='box')"
   ]
  },
  {
   "cell_type": "markdown",
   "metadata": {},
   "source": [
    "## Describing data\n",
    "\n",
    "### The distribution\n",
    "**The distribution of a feature tells you the possible values of that feature and how frequently they occur.**\n",
    "\n",
    "#### Statistics\n",
    "We can also use summary statistics to help describe quantitative data. \n",
    "\n",
    "Central Tendancy - Where is the middle?\n",
    "* Mean = average\n",
    "* Median = middle value\n",
    "* Mode = most common value (tallest bar in a histogram)\n",
    "\n",
    "Spread - how much does data vary?\n",
    "\n",
    "There are methods in Pandas that allow us to calculate these quantities.\n"
   ]
  },
  {
   "cell_type": "code",
   "execution_count": 17,
   "metadata": {
    "tags": []
   },
   "outputs": [
    {
     "data": {
      "text/plain": [
       "np.float64(137570.38988015978)"
      ]
     },
     "execution_count": 17,
     "metadata": {},
     "output_type": "execute_result"
    }
   ],
   "source": [
    "salary_df['salary_in_usd'].mean()"
   ]
  },
  {
   "cell_type": "code",
   "execution_count": 18,
   "metadata": {
    "tags": []
   },
   "outputs": [
    {
     "data": {
      "text/plain": [
       "135000.0"
      ]
     },
     "execution_count": 18,
     "metadata": {},
     "output_type": "execute_result"
    }
   ],
   "source": [
    "salary_df['salary_in_usd'].median()"
   ]
  },
  {
   "cell_type": "code",
   "execution_count": 19,
   "metadata": {
    "tags": []
   },
   "outputs": [
    {
     "data": {
      "text/plain": [
       "count      3755.000000\n",
       "mean     137570.389880\n",
       "std       63055.625278\n",
       "min        5132.000000\n",
       "25%       95000.000000\n",
       "50%      135000.000000\n",
       "75%      175000.000000\n",
       "max      450000.000000\n",
       "Name: salary_in_usd, dtype: float64"
      ]
     },
     "execution_count": 19,
     "metadata": {},
     "output_type": "execute_result"
    }
   ],
   "source": [
    "salary_df['salary_in_usd'].describe()"
   ]
  },
  {
   "cell_type": "code",
   "execution_count": 20,
   "metadata": {
    "tags": []
   },
   "outputs": [
    {
     "data": {
      "text/plain": [
       "0    100000\n",
       "Name: salary_in_usd, dtype: int64"
      ]
     },
     "execution_count": 20,
     "metadata": {},
     "output_type": "execute_result"
    }
   ],
   "source": [
    "salary_df['salary_in_usd'].mode()"
   ]
  },
  {
   "cell_type": "markdown",
   "metadata": {},
   "source": [
    "**What was a \"typical\" salary for a data science professional in USD around 2023?  What was the salary range?**"
   ]
  },
  {
   "cell_type": "markdown",
   "metadata": {},
   "source": [
    "## Visualizations for categorical features\n",
    "\n",
    "There are two common visualizations for categorical features: one where we want to compare totals for multiple groups and one where we want to visualize parts of a whole.\n"
   ]
  },
  {
   "cell_type": "code",
   "execution_count": null,
   "metadata": {
    "tags": []
   },
   "outputs": [],
   "source": [
    "salary_df['salary_in_usd']"
   ]
  },
  {
   "cell_type": "code",
   "execution_count": null,
   "metadata": {
    "tags": []
   },
   "outputs": [],
   "source": []
  },
  {
   "cell_type": "code",
   "execution_count": null,
   "metadata": {
    "tags": []
   },
   "outputs": [],
   "source": []
  },
  {
   "cell_type": "code",
   "execution_count": null,
   "metadata": {
    "tags": []
   },
   "outputs": [],
   "source": []
  },
  {
   "cell_type": "markdown",
   "metadata": {},
   "source": [
    "**What is the most common remote work arrangement?**"
   ]
  },
  {
   "cell_type": "code",
   "execution_count": 23,
   "metadata": {
    "tags": []
   },
   "outputs": [
    {
     "data": {
      "text/plain": [
       "<Axes: ylabel='count'>"
      ]
     },
     "execution_count": 23,
     "metadata": {},
     "output_type": "execute_result"
    },
    {
     "data": {
      "image/png": "[encoded data removed]",
      "text/plain": [
       "<Figure size 640x480 with 1 Axes>"
      ]
     },
     "metadata": {},
     "output_type": "display_data"
    }
   ],
   "source": [
    "salary_df['remote_ratio'].value_counts().plot(kind='pie')"
   ]
  },
  {
   "cell_type": "code",
   "execution_count": null,
   "metadata": {
    "tags": []
   },
   "outputs": [],
   "source": []
  },
  {
   "cell_type": "markdown",
   "metadata": {},
   "source": [
    "It's best to get in the habit of giving your plots descriptive titles and labels.  Let's make some quick improvements to our previous plots.  \n",
    "\n",
    "You don't have to memorize every feature and option for plotting.  You can always look them up later if you forget."
   ]
  },
  {
   "cell_type": "code",
   "execution_count": null,
   "metadata": {},
   "outputs": [],
   "source": []
  },
  {
   "cell_type": "code",
   "execution_count": null,
   "metadata": {
    "tags": []
   },
   "outputs": [],
   "source": []
  },
  {
   "cell_type": "code",
   "execution_count": null,
   "metadata": {
    "tags": []
   },
   "outputs": [],
   "source": []
  },
  {
   "cell_type": "code",
   "execution_count": null,
   "metadata": {
    "tags": []
   },
   "outputs": [],
   "source": []
  },
  {
   "cell_type": "markdown",
   "metadata": {},
   "source": [
    "## Six Principles of Good Design\n",
    "\n",
    "1. Clarity:\n",
    "* Avoid unnecessary clutter: Every element should have a purpose. Remove redundant or unnecessary information.\n",
    "* Choose the right visualization type: The type of visualization should align with what you're trying to convey. For instance, use bar charts for categorical data, line charts for time series, scatter plots for relationships, etc."
   ]
  },
  {
   "cell_type": "markdown",
   "metadata": {},
   "source": [
    "2. Consistency:\n",
    "* Keep scales consistent: When comparing multiple plots, keep the scales consistent to avoid misinterpretation.\n",
    "* Use consistent colors and styles: If blue represents a particular category in one plot, it should represent the same in other plots."
   ]
  },
  {
   "cell_type": "markdown",
   "metadata": {},
   "source": [
    "3. Simplicity:\n",
    "* Avoid too many colors: Using too many colors can be confusing. Stick to a small, consistent palette.\n",
    "* Limit the use of pie charts: Pie charts can be hard to interpret, especially with many slices. Consider bar charts or stacked bar charts as alternatives."
   ]
  },
  {
   "cell_type": "markdown",
   "metadata": {},
   "source": [
    "4. Accessibility:\n",
    "* Color contrast: Ensure there's enough contrast between text and background and between different data elements. This is especially crucial for viewers with color vision deficiencies.\n",
    "* Avoid relying solely on color: For those with colorblindness, using patterns, annotations, or different line styles can help distinguish data.\n",
    "* Use larger text sizes: This ensures readability, especially for those with vision impairments.\n",
    "* Provide text descriptions: For complex visualizations or when publishing on the web, provide textual descriptions or summaries.\n",
    "* [Learn more about creating accessible visualiations](https://it.wisc.edu/learn/make-it-accessible/accessible-data-visualizations/)"
   ]
  },
  {
   "cell_type": "markdown",
   "metadata": {},
   "source": [
    "5. Labeling & Annotation:\n",
    "* Descriptive titles: The title should summarize what the graph shows.\n",
    "* Label axes: Always label your axes, and if needed, provide units.\n",
    "* Annotations: Use them to highlight or explain specific points on your graph."
   ]
  },
  {
   "cell_type": "markdown",
   "metadata": {},
   "source": [
    "6. Integrity:\n",
    "\n",
    "* Avoid misleading scales: For instance, bar charts should start at zero to avoid exaggerating differences.\n",
    "* Be transparent: Clearly state the sources of your data and any manipulations or transformations you've done."
   ]
  },
  {
   "cell_type": "markdown",
   "metadata": {},
   "source": [
    "## Bad Design in the Wild\n",
    "\n",
    "What principle(s) of good design are being violated by the folloiwng visualizations?\n",
    "\n",
    "https://medium.com/@Ana_kin/graphs-gone-wrong-misleading-data-visualizations-d4805d1c4700"
   ]
  },
  {
   "cell_type": "markdown",
   "metadata": {},
   "source": [
    "## Ok\n",
    "In this class we are going to be analyzing and working with large data sets and making choices on how best to display information in order to extract value from it.  We will need to:\n",
    "\n",
    "* Understand the context - why does our audience care about this data?\n",
    "* Choose an appropriate visual for the type of data\n",
    "* Eliminate anything not neccessary\n",
    "* Focus users attention where we want it to be\n",
    "\n",
    "To achieve this we are going to be using an industry standard toolset, Python Anaconda.  "
   ]
  },
  {
   "cell_type": "markdown",
   "metadata": {},
   "source": [
    "Be sure to read the day's notebook before coming to class.  The work in this class is cumulative, it is probably a good idea to also re-read notebooks from previous days to try and pick up anything you might have missed."
   ]
  },
  {
   "cell_type": "code",
   "execution_count": null,
   "metadata": {},
   "outputs": [],
   "source": []
  }
 ],
 "metadata": {
  "anaconda-cloud": {},
  "kernelspec": {
   "display_name": "Python 3 (ipykernel)",
   "language": "python",
   "name": "python3"
  },
  "language_info": {
   "codemirror_mode": {
    "name": "ipython",
    "version": 3
   },
   "file_extension": ".py",
   "mimetype": "text/x-python",
   "name": "python",
   "nbconvert_exporter": "python",
   "pygments_lexer": "ipython3",
   "version": "3.13.5"
  },
  "vscode": {
   "interpreter": {
    "hash": "ce119b89bc2e74c761eac86109834d120346842bff8d13cbadf57b85ac0c1fd2"
   }
  }
 },
 "nbformat": 4,
 "nbformat_minor": 4
}
