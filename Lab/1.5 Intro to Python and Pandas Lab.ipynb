{
 "cells": [
  {
   "cell_type": "markdown",
   "id": "03ba50ef-04a5-4edc-9ef8-747de437c608",
   "metadata": {},
   "source": [
    "# Lab Instructions\n",
    "\n",
    "Find a dataset that interests you. I'd recommend starting on [Kaggle](https://www.kaggle.com/). Read through all of the material about the dataset and download a .CSV file.\n",
    "\n",
    "1. Write a short summary of the data.  Where did it come from?  How was it collected?  What are the features in the data?  Why is this dataset interesting to you?  \n",
    "\n",
    "2. Identify 5 interesting questions about your data that you can answer using Pandas methods.  \n",
    "\n",
    "3. Answer those questions!  You may use any method you want (including LLMs) to help you write your code; however, you should use Pandas to find the answers.  LLMs will not always write code in this way without specific instruction.  \n",
    "\n",
    "4. Write the answer to your question in a text box underneath the code you used to calculate the answer.\n",
    "\n"
   ]
  },
  {
   "cell_type": "markdown",
   "id": "cabb2af9",
   "metadata": {},
   "source": [
    "# Summary\n",
    "I've chosen a steam data set. Which shows a list of user behaviors, with columns: user-id, game-title, behavior-name, value. The behaviors included are 'purchase' and 'play'. The value indicates the degree to which the behavior was performed - in the case of 'purchase' the value is always 1, and in the case of 'play' the value represents the number of hours the user has played the game. The data comes entirely collected from Steam's public data.\n",
    "\n",
    "This dataset comes from: [SteamData](https://www.kaggle.com/datasets/tamber/steam-video-games?select=steam-200k.csv)\n",
    "\n",
    "# Why it Intrests me\n",
    "As someone whose main hobby is gaming and a frequent Steam user, I’m interested in this dataset because it shows which games people buy and actually play—along with their playtime—helping me focus on titles with high engagement and strong potential for attracting viewers when I return to streaming on Twitch."
   ]
  },
  {
   "cell_type": "code",
   "execution_count": 2,
   "id": "fc8253ca-7e5e-494f-adca-36bc456d13e4",
   "metadata": {},
   "outputs": [
    {
     "data": {
      "text/html": [
       "<div>\n",
       "<style scoped>\n",
       "    .dataframe tbody tr th:only-of-type {\n",
       "        vertical-align: middle;\n",
       "    }\n",
       "\n",
       "    .dataframe tbody tr th {\n",
       "        vertical-align: top;\n",
       "    }\n",
       "\n",
       "    .dataframe thead th {\n",
       "        text-align: right;\n",
       "    }\n",
       "</style>\n",
       "<table border=\"1\" class=\"dataframe\">\n",
       "  <thead>\n",
       "    <tr style=\"text-align: right;\">\n",
       "      <th></th>\n",
       "      <th>User_Id</th>\n",
       "      <th>Game</th>\n",
       "      <th>Action</th>\n",
       "      <th>Value</th>\n",
       "      <th>Other</th>\n",
       "    </tr>\n",
       "  </thead>\n",
       "  <tbody>\n",
       "    <tr>\n",
       "      <th>0</th>\n",
       "      <td>151603712</td>\n",
       "      <td>The Elder Scrolls V Skyrim</td>\n",
       "      <td>purchase</td>\n",
       "      <td>1.0</td>\n",
       "      <td>0</td>\n",
       "    </tr>\n",
       "    <tr>\n",
       "      <th>1</th>\n",
       "      <td>151603712</td>\n",
       "      <td>The Elder Scrolls V Skyrim</td>\n",
       "      <td>play</td>\n",
       "      <td>273.0</td>\n",
       "      <td>0</td>\n",
       "    </tr>\n",
       "    <tr>\n",
       "      <th>2</th>\n",
       "      <td>151603712</td>\n",
       "      <td>Fallout 4</td>\n",
       "      <td>purchase</td>\n",
       "      <td>1.0</td>\n",
       "      <td>0</td>\n",
       "    </tr>\n",
       "    <tr>\n",
       "      <th>3</th>\n",
       "      <td>151603712</td>\n",
       "      <td>Fallout 4</td>\n",
       "      <td>play</td>\n",
       "      <td>87.0</td>\n",
       "      <td>0</td>\n",
       "    </tr>\n",
       "    <tr>\n",
       "      <th>4</th>\n",
       "      <td>151603712</td>\n",
       "      <td>Spore</td>\n",
       "      <td>purchase</td>\n",
       "      <td>1.0</td>\n",
       "      <td>0</td>\n",
       "    </tr>\n",
       "  </tbody>\n",
       "</table>\n",
       "</div>"
      ],
      "text/plain": [
       "     User_Id                        Game    Action  Value  Other\n",
       "0  151603712  The Elder Scrolls V Skyrim  purchase    1.0      0\n",
       "1  151603712  The Elder Scrolls V Skyrim      play  273.0      0\n",
       "2  151603712                   Fallout 4  purchase    1.0      0\n",
       "3  151603712                   Fallout 4      play   87.0      0\n",
       "4  151603712                       Spore  purchase    1.0      0"
      ]
     },
     "execution_count": 2,
     "metadata": {},
     "output_type": "execute_result"
    }
   ],
   "source": [
    "import pandas as pd\n",
    "import matplotlib.pyplot as plt\n",
    "steam_df = pd.read_csv('steam_200k.csv')\n",
    "steam_df.head()"
   ]
  },
  {
   "cell_type": "markdown",
   "id": "6a92eb39",
   "metadata": {},
   "source": [
    "# Questions\n",
    "1. Which games have the highest average playtime?"
   ]
  },
  {
   "cell_type": "code",
   "execution_count": 3,
   "id": "942ca7a3",
   "metadata": {},
   "outputs": [
    {
     "data": {
      "text/plain": [
       "Game\n",
       "Eastside Hockey Manager              1295.000000\n",
       "Baldur's Gate II Enhanced Edition     475.255556\n",
       "FIFA Manager 09                       411.000000\n",
       "Perpetuum                             400.975000\n",
       "Football Manager 2014                 391.984615\n",
       "Football Manager 2012                 390.453165\n",
       "Football Manager 2010                 375.048571\n",
       "Football Manager 2011                 365.703226\n",
       "Freaking Meatbags                     331.000000\n",
       "Out of the Park Baseball 16           330.400000\n",
       "Name: Value, dtype: float64"
      ]
     },
     "execution_count": 3,
     "metadata": {},
     "output_type": "execute_result"
    }
   ],
   "source": [
    "play_df = steam_df[steam_df['Action'] == 'play']\n",
    "avg_playtime = play_df.groupby('Game')['Value'].mean().sort_values(ascending=False)\n",
    "avg_playtime.head(10)"
   ]
  },
  {
   "cell_type": "markdown",
   "id": "4b760d18",
   "metadata": {},
   "source": [
    "# Answer\n",
    "\n",
    "- The games with the highest average play time is EastSide Hockey Manager, Baldur's Gate II Enhanced edition, FIFA Manager 09"
   ]
  },
  {
   "cell_type": "markdown",
   "id": "9df9c3d8",
   "metadata": {},
   "source": [
    "2. What are the top 10 most purchased games?"
   ]
  },
  {
   "cell_type": "code",
   "execution_count": 4,
   "id": "c8d9a977",
   "metadata": {},
   "outputs": [
    {
     "data": {
      "text/plain": [
       "Game\n",
       "Dota 2                             4841\n",
       "Team Fortress 2                    2323\n",
       "Unturned                           1563\n",
       "Counter-Strike Global Offensive    1412\n",
       "Half-Life 2 Lost Coast              981\n",
       "Counter-Strike Source               978\n",
       "Left 4 Dead 2                       951\n",
       "Counter-Strike                      856\n",
       "Warframe                            847\n",
       "Half-Life 2 Deathmatch              823\n",
       "Name: count, dtype: int64"
      ]
     },
     "execution_count": 4,
     "metadata": {},
     "output_type": "execute_result"
    }
   ],
   "source": [
    "purchase_df = steam_df[steam_df['Action'] == 'purchase']\n",
    "purchase_df['Game'].value_counts().head(10)"
   ]
  },
  {
   "cell_type": "markdown",
   "id": "150ba5b9",
   "metadata": {},
   "source": [
    "# Answer\n",
    "\n",
    "- The top ten purchased names are :\n",
    "\n",
    "Dota 2                             \n",
    "Team Fortress 2                    \n",
    "Unturned                           \n",
    "Counter-Strike Global Offensive    \n",
    "Half-Life 2 Lost Coast              \n",
    "Counter-Strike Source               \n",
    "Left 4 Dead 2                       \n",
    "Counter-Strike                      \n",
    "Warframe                            \n",
    "Half-Life 2 Deathmatch              "
   ]
  },
  {
   "cell_type": "markdown",
   "id": "d6e0328f",
   "metadata": {},
   "source": [
    "3. Do players tend to play their most purchased games the most, or is there a gap between purchases and actual playtime?"
   ]
  },
  {
   "cell_type": "code",
   "execution_count": 9,
   "id": "a11e9d7f",
   "metadata": {},
   "outputs": [
    {
     "data": {
      "text/html": [
       "<div>\n",
       "<style scoped>\n",
       "    .dataframe tbody tr th:only-of-type {\n",
       "        vertical-align: middle;\n",
       "    }\n",
       "\n",
       "    .dataframe tbody tr th {\n",
       "        vertical-align: top;\n",
       "    }\n",
       "\n",
       "    .dataframe thead th {\n",
       "        text-align: right;\n",
       "    }\n",
       "</style>\n",
       "<table border=\"1\" class=\"dataframe\">\n",
       "  <thead>\n",
       "    <tr style=\"text-align: right;\">\n",
       "      <th></th>\n",
       "      <th>purchases</th>\n",
       "      <th>playTime</th>\n",
       "    </tr>\n",
       "    <tr>\n",
       "      <th>Game</th>\n",
       "      <th></th>\n",
       "      <th></th>\n",
       "    </tr>\n",
       "  </thead>\n",
       "  <tbody>\n",
       "    <tr>\n",
       "      <th>Dota 2</th>\n",
       "      <td>4841</td>\n",
       "      <td>981684.6</td>\n",
       "    </tr>\n",
       "    <tr>\n",
       "      <th>Team Fortress 2</th>\n",
       "      <td>2323</td>\n",
       "      <td>173673.3</td>\n",
       "    </tr>\n",
       "    <tr>\n",
       "      <th>Unturned</th>\n",
       "      <td>1563</td>\n",
       "      <td>16096.4</td>\n",
       "    </tr>\n",
       "    <tr>\n",
       "      <th>Counter-Strike Global Offensive</th>\n",
       "      <td>1412</td>\n",
       "      <td>322771.6</td>\n",
       "    </tr>\n",
       "    <tr>\n",
       "      <th>Half-Life 2 Lost Coast</th>\n",
       "      <td>981</td>\n",
       "      <td>184.4</td>\n",
       "    </tr>\n",
       "    <tr>\n",
       "      <th>Counter-Strike Source</th>\n",
       "      <td>978</td>\n",
       "      <td>96075.5</td>\n",
       "    </tr>\n",
       "    <tr>\n",
       "      <th>Left 4 Dead 2</th>\n",
       "      <td>951</td>\n",
       "      <td>33596.7</td>\n",
       "    </tr>\n",
       "    <tr>\n",
       "      <th>Counter-Strike</th>\n",
       "      <td>856</td>\n",
       "      <td>134261.1</td>\n",
       "    </tr>\n",
       "    <tr>\n",
       "      <th>Warframe</th>\n",
       "      <td>847</td>\n",
       "      <td>27074.6</td>\n",
       "    </tr>\n",
       "    <tr>\n",
       "      <th>Half-Life 2 Deathmatch</th>\n",
       "      <td>823</td>\n",
       "      <td>3712.9</td>\n",
       "    </tr>\n",
       "  </tbody>\n",
       "</table>\n",
       "</div>"
      ],
      "text/plain": [
       "                                 purchases  playTime\n",
       "Game                                                \n",
       "Dota 2                                4841  981684.6\n",
       "Team Fortress 2                       2323  173673.3\n",
       "Unturned                              1563   16096.4\n",
       "Counter-Strike Global Offensive       1412  322771.6\n",
       "Half-Life 2 Lost Coast                 981     184.4\n",
       "Counter-Strike Source                  978   96075.5\n",
       "Left 4 Dead 2                          951   33596.7\n",
       "Counter-Strike                         856  134261.1\n",
       "Warframe                               847   27074.6\n",
       "Half-Life 2 Deathmatch                 823    3712.9"
      ]
     },
     "execution_count": 9,
     "metadata": {},
     "output_type": "execute_result"
    }
   ],
   "source": [
    "purchase_count = purchase_df['Game'].value_counts()\n",
    "\n",
    "hour_count = play_df.groupby('Game')['Value'].sum()\n",
    "\n",
    "comparison = {\n",
    "    \"purchases\": purchase_count,\n",
    "    \"playTime\": hour_count\n",
    "}\n",
    "pd.DataFrame(comparison).sort_values(by='purchases', ascending=False).head(10)"
   ]
  },
  {
   "cell_type": "markdown",
   "id": "82fa74c2",
   "metadata": {},
   "source": [
    "# Answer\n",
    "\n",
    "- While there is some overlap between the most purchased and most played games, the data indicates that purchase volume does not always correlate with total playtime. Some heavily purchased games show relatively low playtime, suggesting impulse buys or unplayed library additions."
   ]
  },
  {
   "cell_type": "markdown",
   "id": "a4de0315",
   "metadata": {},
   "source": [
    "4. Which games have the highest total playtime across all players?"
   ]
  },
  {
   "cell_type": "code",
   "execution_count": 18,
   "id": "dcbef7d7",
   "metadata": {},
   "outputs": [
    {
     "data": {
      "text/plain": [
       "Game\n",
       "Dota 2                                         981684.6\n",
       "Counter-Strike Global Offensive                322771.6\n",
       "Team Fortress 2                                173673.3\n",
       "Counter-Strike                                 134261.1\n",
       "Sid Meier's Civilization V                      99821.3\n",
       "Counter-Strike Source                           96075.5\n",
       "The Elder Scrolls V Skyrim                      70889.3\n",
       "Garry's Mod                                     49725.3\n",
       "Call of Duty Modern Warfare 2 - Multiplayer     42009.9\n",
       "Left 4 Dead 2                                   33596.7\n",
       "Name: Value, dtype: float64"
      ]
     },
     "execution_count": 18,
     "metadata": {},
     "output_type": "execute_result"
    }
   ],
   "source": [
    "total_playtime = play_df.groupby('Game')['Value'].sum().sort_values(ascending=False)\n",
    "total_playtime.head(10)"
   ]
  },
  {
   "cell_type": "markdown",
   "id": "3ae47208",
   "metadata": {},
   "source": [
    "# Answer\n",
    "\n",
    "- Games like Dota 2, Counter-Strike: Global Offensive, and Team Fortress 2 have the highest total playtime across all players, showing they maintain strong, long-term communities that invest significant hours collectively."
   ]
  },
  {
   "cell_type": "markdown",
   "id": "b1eb03e7",
   "metadata": {},
   "source": [
    "5. What is the distribution of playtime among all users for a specific game?"
   ]
  },
  {
   "cell_type": "code",
   "execution_count": 17,
   "id": "3f8d985a",
   "metadata": {},
   "outputs": [
    {
     "data": {
      "text/plain": [
       "count     4841.000000\n",
       "mean       202.785499\n",
       "std        600.555866\n",
       "min          0.100000\n",
       "25%          1.200000\n",
       "50%          5.500000\n",
       "75%         69.000000\n",
       "max      10442.000000\n",
       "Name: Value, dtype: float64"
      ]
     },
     "execution_count": 17,
     "metadata": {},
     "output_type": "execute_result"
    },
    {
     "data": {
      "image/png": "[encoded data removed]",
      "text/plain": [
       "<Figure size 640x480 with 1 Axes>"
      ]
     },
     "metadata": {},
     "output_type": "display_data"
    }
   ],
   "source": [
    "game_name = 'Dota 2'\n",
    "\n",
    "dota_hours = play_df[play_df['Game'] == game_name]['Value']\n",
    "\n",
    "dota_hours.plot(kind='hist')\n",
    "\n",
    "plt.title('Users Playtime in Dota 2')\n",
    "plt.ylabel('Users who purchased')\n",
    "plt.xlabel('Play Time')\n",
    "\n",
    "dota_hours.describe()"
   ]
  },
  {
   "cell_type": "markdown",
   "id": "fae168e7",
   "metadata": {},
   "source": [
    "# Answer\n",
    "\n",
    "- For Dota 2, the distribution of playtime is heavily skewed. While many players have only a few hours recorded, a smaller but dedicated group has logged hundreds or even thousands of hours. This suggests the game attracts both casual participants and a highly engaged competitive community."
   ]
  }
 ],
 "metadata": {
  "kernelspec": {
   "display_name": "base",
   "language": "python",
   "name": "python3"
  },
  "language_info": {
   "codemirror_mode": {
    "name": "ipython",
    "version": 3
   },
   "file_extension": ".py",
   "mimetype": "text/x-python",
   "name": "python",
   "nbconvert_exporter": "python",
   "pygments_lexer": "ipython3",
   "version": "3.13.5"
  }
 },
 "nbformat": 4,
 "nbformat_minor": 5
}
