{
 "cells": [
  {
   "cell_type": "markdown",
   "id": "03b012f6-6644-4c05-8269-586b4dc6b8fc",
   "metadata": {},
   "source": [
    "# Lab Instructions\n",
    "\n",
    "You have been hired by James Cameron to create profiles of two characters for a reboot of the Titanic Movie: one that is most likely to survive the sinking and one that is least likely to survive.  Mr. Cameron wants this reboot to be as historically accurate as possible, so your profile of each character should be backed up with data and visualizations.\n",
    "\n",
    "Each character profile should include information on their:\n",
    "* Age, fare\n",
    "* Sex\n",
    "* Passenger class\n",
    "* Travel companions (including both parents/children and siblings/spouse)\n",
    "* Port of departure\n",
    "\n",
    "For quantitative features like `Age` and `Fare`, you will need to use the `.loc` method we learned in class (or something similar) to place individuals in categories.  How you choose to do this is up to you, but make sure you explain your reasoning.\n",
    "\n",
    "You should include at least one visualization for each element of the character profile (age, sex, passenger class, etc.) as evidence.\n",
    "\n",
    "After you have developed your two character profiles, use your Pandas data wrangling skills to identify at least one real passenger in the dataset that fits each profile.  Print out the names of these individuals.  Look them up in [Encyclopeida Titanica](https://www.encyclopedia-titanica.org/) (or a similar resource).  \n",
    "\n",
    "Tell Mr. Cameron at least one thing about the real passengers who fit your two character profiles that you learned from an external resource.  You need one interesting fact about a person who fits the profile of \"most likely to survive\" and one interesting fact about a person who fits the profile of \"least likely to surivive\".  \n",
    "\n"
   ]
  },
  {
   "cell_type": "code",
   "execution_count": null,
   "id": "3e525c9c-d0f3-48af-b0d9-6f7c6dfdb49d",
   "metadata": {},
   "outputs": [],
   "source": []
  },
  {
   "cell_type": "code",
   "execution_count": null,
   "id": "f9ea5314-8fda-47b6-b0b5-f4946a847f63",
   "metadata": {
    "tags": []
   },
   "outputs": [],
   "source": []
  },
  {
   "cell_type": "code",
   "execution_count": null,
   "id": "4daa83c3-5fcf-4885-a1a4-ed36e072af9f",
   "metadata": {},
   "outputs": [],
   "source": []
  }
 ],
 "metadata": {
  "kernelspec": {
   "display_name": "Python 3 (ipykernel)",
   "language": "python",
   "name": "python3"
  },
  "language_info": {
   "codemirror_mode": {
    "name": "ipython",
    "version": 3
   },
   "file_extension": ".py",
   "mimetype": "text/x-python",
   "name": "python",
   "nbconvert_exporter": "python",
   "pygments_lexer": "ipython3",
   "version": "3.11.4"
  }
 },
 "nbformat": 4,
 "nbformat_minor": 5
}
