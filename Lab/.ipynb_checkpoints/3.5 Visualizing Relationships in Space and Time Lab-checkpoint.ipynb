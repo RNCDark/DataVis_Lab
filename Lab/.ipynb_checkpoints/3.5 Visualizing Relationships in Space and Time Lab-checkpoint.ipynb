{
 "cells": [
  {
   "cell_type": "markdown",
   "id": "7790bbd4-0d2e-4350-876f-eff8271cea4e",
   "metadata": {},
   "source": [
    "# Lab Instructions\n",
    "\n",
    "Look through Kaggle or another source to find a dataset that contains both spatial and time data.  Using at least three visualizations, explain to me how the subject of your dataset changes (or remains the same if that's what's interesting) across space and throughout time."
   ]
  },
  {
   "cell_type": "code",
   "execution_count": null,
   "id": "b8e9630e-ba42-4857-bdab-903297d7f7d9",
   "metadata": {},
   "outputs": [],
   "source": []
  }
 ],
 "metadata": {
  "kernelspec": {
   "display_name": "Python 3 (ipykernel)",
   "language": "python",
   "name": "python3"
  },
  "language_info": {
   "codemirror_mode": {
    "name": "ipython",
    "version": 3
   },
   "file_extension": ".py",
   "mimetype": "text/x-python",
   "name": "python",
   "nbconvert_exporter": "python",
   "pygments_lexer": "ipython3",
   "version": "3.11.4"
  }
 },
 "nbformat": 4,
 "nbformat_minor": 5
}
